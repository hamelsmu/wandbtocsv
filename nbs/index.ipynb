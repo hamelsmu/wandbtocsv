{
 "cells": [
  {
   "cell_type": "markdown",
   "metadata": {},
   "source": [
    "# wandbtocsv\n",
    "\n",
    "> CLI tool to export W&B metrics to a csv file."
   ]
  },
  {
   "cell_type": "markdown",
   "metadata": {},
   "source": [
    "## Background\n",
    "\n",
    "`wandbtocsv` allows you to quickly export a flat csv file of the top level metrics, config, etc. from your [Weights & Biases](https://wandb.ai/) runs in an easy to use CLI interface."
   ]
  },
  {
   "cell_type": "markdown",
   "metadata": {},
   "source": [
    "## Install"
   ]
  },
  {
   "cell_type": "markdown",
   "metadata": {},
   "source": [
    "```sh\n",
    "pip install wandbtocsv\n",
    "```"
   ]
  },
  {
   "cell_type": "markdown",
   "metadata": {},
   "source": [
    "## How to use"
   ]
  },
  {
   "cell_type": "code",
   "execution_count": null,
   "metadata": {},
   "outputs": [
    {
     "name": "stdout",
     "output_type": "stream",
     "text": [
      "usage: wandbtocsv [-h] [--entity ENTITY] [--project PROJECT]\n",
      "                  [--output_file OUTPUT_FILE]\n",
      "\n",
      "options:\n",
      "  -h, --help                 show this help message and exit\n",
      "  --entity ENTITY            Entity for the WANDB runs. If not provided,\n",
      "                             attempts to fetch from environment variable\n",
      "                             'WANDB_ENTITY'.\n",
      "  --project PROJECT          Project for the WANDB runs. If not provided,\n",
      "                             attempts to fetch from environment variable\n",
      "                             'WANDB_PROJECT'.\n",
      "  --output_file OUTPUT_FILE  Path to save the output CSV. Default name format:\n",
      "                             {entity}-{project}-{mmddyy}.csv\n"
     ]
    }
   ],
   "source": [
    "!wandbtocsv -h"
   ]
  },
  {
   "cell_type": "code",
   "execution_count": null,
   "metadata": {},
   "outputs": [
    {
     "name": "stdout",
     "output_type": "stream",
     "text": [
      "\u001b[2K\u001b[36mFetching runs...\u001b[0m \u001b[38;2;114;156;31m━━━━━━━━━━━━━━━━━━━━━━━━━━━━━━━━━━━━━━━━\u001b[0m \u001b[35m100%\u001b[0m \u001b[36m0:00:00\u001b[0m%\u001b[0m \u001b[36m0:00:01\u001b[0m[36m0:00:03\u001b[0m\n",
      "\u001b[?25hSaved 480 runs to hamelsmu-deepspeed-data-100823.csv\n"
     ]
    }
   ],
   "source": [
    "#|eval: false\n",
    "!wandbtocsv --entity hamelsmu --project deepspeed-data"
   ]
  },
  {
   "cell_type": "markdown",
   "metadata": {},
   "source": [
    "## Bonus, explore your wandb runs in [Datasette](https://datasette.io/)"
   ]
  },
  {
   "cell_type": "markdown",
   "metadata": {},
   "source": [
    "```bash\n",
    "csvs-to-sqlite hamelsmu-deepspeed-data-100823.csv hamelsmu-deepspeed-data-100823.db\n",
    "datasette hamelsmu-deepspeed-data-100823.db -o\n",
    "```"
   ]
  },
  {
   "cell_type": "code",
   "execution_count": null,
   "metadata": {},
   "outputs": [],
   "source": []
  }
 ],
 "metadata": {
  "kernelspec": {
   "display_name": "python3",
   "language": "python",
   "name": "python3"
  }
 },
 "nbformat": 4,
 "nbformat_minor": 4
}
