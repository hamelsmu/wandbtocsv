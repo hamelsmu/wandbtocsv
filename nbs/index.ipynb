{
 "cells": [
  {
   "cell_type": "markdown",
   "metadata": {},
   "source": [
    "# wandbtocsv\n",
    "\n",
    "> Export summary metrics and config from runs as a csv file from a project\n",
    "\n",
    "Have you ever just wanted a flat csv file of all your run summary, configuration and other top level metrics from your Weights & Biases runs in an easy to use CLI interface?  Look no further, you have come to the right place!"
   ]
  },
  {
   "cell_type": "markdown",
   "metadata": {},
   "source": [
    "## Install"
   ]
  },
  {
   "cell_type": "markdown",
   "metadata": {},
   "source": [
    "```sh\n",
    "pip install wandbtocsv\n",
    "```"
   ]
  },
  {
   "cell_type": "markdown",
   "metadata": {},
   "source": [
    "## How to use"
   ]
  },
  {
   "cell_type": "code",
   "execution_count": null,
   "metadata": {},
   "outputs": [
    {
     "name": "stdout",
     "output_type": "stream",
     "text": [
      "usage: wandb_fetch [-h] [--entity ENTITY] [--project PROJECT]\n",
      "                   [--output_file OUTPUT_FILE]\n",
      "\n",
      "options:\n",
      "  -h, --help                 show this help message and exit\n",
      "  --entity ENTITY            Entity for the WANDB runs. If not provided,\n",
      "                             attempts to fetch from environment variable\n",
      "                             'WANDB_ENTITY'.\n",
      "  --project PROJECT          Project for the WANDB runs. If not provided,\n",
      "                             attempts to fetch from environment variable\n",
      "                             'WANDB_PROJECT'.\n",
      "  --output_file OUTPUT_FILE  Path to save the output CSV. Default name format:\n",
      "                             {entity}-{project}-{mmddyy}.csv\n"
     ]
    }
   ],
   "source": [
    "!wandb_fetch -h"
   ]
  },
  {
   "cell_type": "code",
   "execution_count": null,
   "metadata": {},
   "outputs": [
    {
     "name": "stdout",
     "output_type": "stream",
     "text": [
      "\u001b[2K\u001b[36mFetching runs...\u001b[0m \u001b[38;2;114;156;31m━━━━━━━━━━━━━━━━━━━━━━━━━━━━━━━━━━━━━━━━\u001b[0m \u001b[35m100%\u001b[0m \u001b[36m0:00:00\u001b[0m\n",
      "\u001b[?25hSaved 224 runs to hamelsmu-deepspeed-data-100523.csv\n",
      "Preview:\n",
      "                                                    id  ... gpu_2_mem\n",
      "0    z0-n_gpu1-gcTrue-seq_len512-bs1-model_sz34-qua...  ...       NaN\n",
      "1    z0-n_gpu1-gcTrue-seq_len512-bs32-model_sz13-qu...  ...       NaN\n",
      "2    z0-n_gpu1-gcTrue-seq_len512-bs8-model_sz13-qua...  ...       NaN\n",
      "3    z0-n_gpu1-gcTrue-seq_len512-bs4-model_sz13-qua...  ...       NaN\n",
      "4    z0-n_gpu1-gcTrue-seq_len512-bs1-model_sz13-qua...  ...       NaN\n",
      "..                                                 ...  ...       ...\n",
      "219  z0-n_gpu1-gcTrue-seq_len64-bs1-model_sz13-6912...  ...       NaN\n",
      "220  z0-n_gpu1-gcTrue-seq_len64-bs200-model_sz7-327...  ...       NaN\n",
      "221  z0-n_gpu1-gcTrue-seq_len64-bs64-model_sz7-2931...  ...       NaN\n",
      "222  z0-n_gpu1-gcTrue-seq_len64-bs8-model_sz7-45632376  ...       NaN\n",
      "223  z0-n_gpu1-gcTrue-seq_len64-bs1-model_sz7-30283126  ...       NaN\n",
      "\n",
      "[224 rows x 200 columns]\n"
     ]
    }
   ],
   "source": [
    "#|eval: false\n",
    "!wandb_fetch --entity hamelsmu --project deepspeed-data"
   ]
  },
  {
   "cell_type": "markdown",
   "metadata": {},
   "source": [
    "## Bonus, explore your wandb runs in [Datasette](https://datasette.io/)"
   ]
  },
  {
   "cell_type": "markdown",
   "metadata": {},
   "source": [
    "```bash\n",
    "csvs-to-sqlite hamelsmu-deepspeed-data-100523.csv hamelsmu-deepspeed-data-100523.db\n",
    "datasette hamelsmu-deepspeed-data-100523.db -o\n",
    "```"
   ]
  }
 ],
 "metadata": {
  "kernelspec": {
   "display_name": "python3",
   "language": "python",
   "name": "python3"
  }
 },
 "nbformat": 4,
 "nbformat_minor": 4
}
