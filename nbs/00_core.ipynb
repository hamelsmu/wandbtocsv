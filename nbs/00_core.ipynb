{
 "cells": [
  {
   "cell_type": "markdown",
   "metadata": {},
   "source": [
    "# core\n",
    "\n",
    "> Fill in a module description here"
   ]
  },
  {
   "cell_type": "code",
   "execution_count": null,
   "metadata": {},
   "outputs": [],
   "source": [
    "#| default_exp core"
   ]
  },
  {
   "cell_type": "code",
   "execution_count": null,
   "metadata": {},
   "outputs": [],
   "source": [
    "#| export\n",
    "import pandas as pd\n",
    "import wandb\n",
    "import os\n",
    "from fastcore.script import call_parse, Param\n",
    "from datetime import datetime\n",
    "from rich.progress import Progress"
   ]
  },
  {
   "cell_type": "code",
   "execution_count": null,
   "metadata": {},
   "outputs": [],
   "source": [
    "#|export\n",
    "\n",
    "@call_parse\n",
    "def fetch_runs(\n",
    "    entity: Param(\"Entity for the WANDB runs. If not provided, attempts to fetch from environment variable 'WANDB_ENTITY'.\", str) = None,\n",
    "    project: Param(\"Project for the WANDB runs. If not provided, attempts to fetch from environment variable 'WANDB_PROJECT'.\", str) = None,\n",
    "    output_file: Param(\"Path to save the output CSV. Default name format: {entity}-{project}-{mmddyy}.csv\", str) = None\n",
    "):\n",
    "        \n",
    "    api = wandb.Api()\n",
    "\n",
    "    # Retrieve entity and project from environment variables if not provided\n",
    "    if not entity: \n",
    "        entity = os.environ.get(\"WANDB_ENTITY\")\n",
    "        if not entity:\n",
    "            raise ValueError(\"Entity not provided and environment variable 'WANDB_ENTITY' is not set.\")\n",
    "        print(f\"Fetched entity from environment variable 'WANDB_ENTITY': {entity}.\")\n",
    "    \n",
    "    if not project: \n",
    "        project = os.environ.get(\"WANDB_PROJECT\")\n",
    "        if not project:\n",
    "            raise ValueError(\"Project not provided and environment variable 'WANDB_PROJECT' is not set.\")\n",
    "        print(f\"Fetched project from environment variable 'WANDB_PROJECT': {project}.\")\n",
    "\n",
    "    # Validate entity and project while estimating total runs\n",
    "    try:\n",
    "        runs_sample = api.runs(path=f\"{entity}/{project}\", per_page=1)\n",
    "        total_runs = len(runs_sample)\n",
    "    except Exception as e:\n",
    "        raise ValueError(f\"Invalid entity '{entity}' or project '{project}': {str(e)}\\n\\nAlso, make sure you are properly authenticated. You can authenticate by using 'wandb.login() or setting the environment variable 'WANDB_API_KEY'\")\n",
    "\n",
    "    # Default CSV file name format\n",
    "    if not output_file:\n",
    "        date_str = datetime.now().strftime(\"%m%d%y\")\n",
    "        output_file = f\"{entity}-{project}-{date_str}.csv\"\n",
    "\n",
    "    all_runs_data = []\n",
    "\n",
    "    with Progress() as progress:\n",
    "        task = progress.add_task(\"[cyan]Fetching runs...\", total=total_runs)\n",
    "\n",
    "        last_created_at = None\n",
    "        while not progress.finished:\n",
    "            filters = {}\n",
    "            if last_created_at:\n",
    "                filters[\"created_at\"] = {\"$gt\": last_created_at}\n",
    "\n",
    "            runs = api.runs(path=f\"{entity}/{project}\", per_page=50, order=\"created_at\", filters=filters)\n",
    "            for run in runs:\n",
    "                run_data = {\n",
    "                    \"id\": run.id,\n",
    "                    \"name\": run.name,\n",
    "                    **run.summary._json_dict,\n",
    "                    **{f\"config_{k}\": v for k, v in run.config.items() if not k.startswith('_')}\n",
    "                }\n",
    "                all_runs_data.append(run_data)\n",
    "\n",
    "            progress.update(task, advance=len(runs))\n",
    "            if len(runs) > 0:\n",
    "                last_created_at = runs[-1].created_at\n",
    "\n",
    "    df = pd.DataFrame(all_runs_data)\n",
    "    df.to_csv(output_file, index=False)\n",
    "    print(f\"Saved {len(df)} runs to {output_file}\")"
   ]
  },
  {
   "cell_type": "code",
   "execution_count": null,
   "metadata": {},
   "outputs": [],
   "source": []
  }
 ],
 "metadata": {
  "kernelspec": {
   "display_name": "python3",
   "language": "python",
   "name": "python3"
  }
 },
 "nbformat": 4,
 "nbformat_minor": 4
}
